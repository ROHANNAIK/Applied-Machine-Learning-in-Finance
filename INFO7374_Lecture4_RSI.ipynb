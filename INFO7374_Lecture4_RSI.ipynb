{
 "cells": [
  {
   "cell_type": "code",
   "execution_count": 94,
   "metadata": {
    "collapsed": true
   },
   "outputs": [],
   "source": [
    "import matplotlib.pyplot as plt\n",
    "import pandas as pd\n",
    "import numpy as np\n",
    "import seaborn as sns\n",
    "from scipy import stats"
   ]
  },
  {
   "cell_type": "code",
   "execution_count": 2,
   "metadata": {
    "collapsed": true
   },
   "outputs": [],
   "source": [
    "path = 'Lecture_4.csv'"
   ]
  },
  {
   "cell_type": "code",
   "execution_count": 3,
   "metadata": {},
   "outputs": [
    {
     "data": {
      "text/html": [
       "<div>\n",
       "<style scoped>\n",
       "    .dataframe tbody tr th:only-of-type {\n",
       "        vertical-align: middle;\n",
       "    }\n",
       "\n",
       "    .dataframe tbody tr th {\n",
       "        vertical-align: top;\n",
       "    }\n",
       "\n",
       "    .dataframe thead th {\n",
       "        text-align: right;\n",
       "    }\n",
       "</style>\n",
       "<table border=\"1\" class=\"dataframe\">\n",
       "  <thead>\n",
       "    <tr style=\"text-align: right;\">\n",
       "      <th></th>\n",
       "      <th>date</th>\n",
       "      <th>Oil</th>\n",
       "      <th>Gas</th>\n",
       "    </tr>\n",
       "  </thead>\n",
       "  <tbody>\n",
       "    <tr>\n",
       "      <th>0</th>\n",
       "      <td>5/8/13</td>\n",
       "      <td>103.79</td>\n",
       "      <td>3.86</td>\n",
       "    </tr>\n",
       "    <tr>\n",
       "      <th>1</th>\n",
       "      <td>5/9/13</td>\n",
       "      <td>103.59</td>\n",
       "      <td>3.87</td>\n",
       "    </tr>\n",
       "    <tr>\n",
       "      <th>2</th>\n",
       "      <td>5/10/13</td>\n",
       "      <td>101.31</td>\n",
       "      <td>3.90</td>\n",
       "    </tr>\n",
       "    <tr>\n",
       "      <th>3</th>\n",
       "      <td>5/13/13</td>\n",
       "      <td>102.17</td>\n",
       "      <td>3.87</td>\n",
       "    </tr>\n",
       "    <tr>\n",
       "      <th>4</th>\n",
       "      <td>5/14/13</td>\n",
       "      <td>102.70</td>\n",
       "      <td>3.93</td>\n",
       "    </tr>\n",
       "  </tbody>\n",
       "</table>\n",
       "</div>"
      ],
      "text/plain": [
       "      date     Oil   Gas\n",
       "0   5/8/13  103.79  3.86\n",
       "1   5/9/13  103.59  3.87\n",
       "2  5/10/13  101.31  3.90\n",
       "3  5/13/13  102.17  3.87\n",
       "4  5/14/13  102.70  3.93"
      ]
     },
     "execution_count": 3,
     "metadata": {},
     "output_type": "execute_result"
    }
   ],
   "source": [
    "df = pd.read_csv(path)\n",
    "df.head()"
   ]
  },
  {
   "cell_type": "code",
   "execution_count": 4,
   "metadata": {
    "collapsed": true
   },
   "outputs": [],
   "source": [
    "df.columns = ['Date', 'Oil', 'Gas']"
   ]
  },
  {
   "cell_type": "code",
   "execution_count": 5,
   "metadata": {},
   "outputs": [
    {
     "data": {
      "text/html": [
       "<div>\n",
       "<style scoped>\n",
       "    .dataframe tbody tr th:only-of-type {\n",
       "        vertical-align: middle;\n",
       "    }\n",
       "\n",
       "    .dataframe tbody tr th {\n",
       "        vertical-align: top;\n",
       "    }\n",
       "\n",
       "    .dataframe thead th {\n",
       "        text-align: right;\n",
       "    }\n",
       "</style>\n",
       "<table border=\"1\" class=\"dataframe\">\n",
       "  <thead>\n",
       "    <tr style=\"text-align: right;\">\n",
       "      <th></th>\n",
       "      <th>Date</th>\n",
       "      <th>Oil</th>\n",
       "      <th>Gas</th>\n",
       "    </tr>\n",
       "  </thead>\n",
       "  <tbody>\n",
       "    <tr>\n",
       "      <th>0</th>\n",
       "      <td>5/8/13</td>\n",
       "      <td>103.79</td>\n",
       "      <td>3.86</td>\n",
       "    </tr>\n",
       "    <tr>\n",
       "      <th>1</th>\n",
       "      <td>5/9/13</td>\n",
       "      <td>103.59</td>\n",
       "      <td>3.87</td>\n",
       "    </tr>\n",
       "    <tr>\n",
       "      <th>2</th>\n",
       "      <td>5/10/13</td>\n",
       "      <td>101.31</td>\n",
       "      <td>3.90</td>\n",
       "    </tr>\n",
       "    <tr>\n",
       "      <th>3</th>\n",
       "      <td>5/13/13</td>\n",
       "      <td>102.17</td>\n",
       "      <td>3.87</td>\n",
       "    </tr>\n",
       "    <tr>\n",
       "      <th>4</th>\n",
       "      <td>5/14/13</td>\n",
       "      <td>102.70</td>\n",
       "      <td>3.93</td>\n",
       "    </tr>\n",
       "  </tbody>\n",
       "</table>\n",
       "</div>"
      ],
      "text/plain": [
       "      Date     Oil   Gas\n",
       "0   5/8/13  103.79  3.86\n",
       "1   5/9/13  103.59  3.87\n",
       "2  5/10/13  101.31  3.90\n",
       "3  5/13/13  102.17  3.87\n",
       "4  5/14/13  102.70  3.93"
      ]
     },
     "execution_count": 5,
     "metadata": {},
     "output_type": "execute_result"
    }
   ],
   "source": [
    "df.head()"
   ]
  },
  {
   "cell_type": "code",
   "execution_count": 6,
   "metadata": {
    "collapsed": true
   },
   "outputs": [],
   "source": [
    "df.dropna(axis=1, how='any', inplace=True)"
   ]
  },
  {
   "cell_type": "markdown",
   "metadata": {},
   "source": [
    "### Formula\n",
    "<img src=\"http://chart.googleapis.com/chart?cht=tx&chl=\\Large x=\\frac{Averageof x days' up closes}{Average of x days' down closes}\" style=\"border:none;\">"
   ]
  },
  {
   "cell_type": "code",
   "execution_count": 7,
   "metadata": {
    "collapsed": true
   },
   "outputs": [],
   "source": [
    "s = 1272"
   ]
  },
  {
   "cell_type": "code",
   "execution_count": 8,
   "metadata": {
    "collapsed": true
   },
   "outputs": [],
   "source": [
    "def RS(mean_up, mean_down):\n",
    "    return mean_up / mean_down"
   ]
  },
  {
   "cell_type": "code",
   "execution_count": 9,
   "metadata": {
    "collapsed": true
   },
   "outputs": [],
   "source": [
    "def RSI(rs):\n",
    "    return 100 - 100 / (1 + rs)"
   ]
  },
  {
   "cell_type": "code",
   "execution_count": 10,
   "metadata": {
    "collapsed": true
   },
   "outputs": [],
   "source": [
    "nth_list = []\n",
    "steps = [5, 9, 14]"
   ]
  },
  {
   "cell_type": "code",
   "execution_count": 96,
   "metadata": {
    "collapsed": true
   },
   "outputs": [],
   "source": [
    "def rsi_df(s, step, nth_list):\n",
    "    rs_list = []\n",
    "    rsi_list = []\n",
    "    # 14 is the step\n",
    "    nth = np.random.randint(0,step - 1)\n",
    "    nth_list.append(nth)\n",
    "    date_list = []\n",
    "    oil_price = []\n",
    "    oil_test = []\n",
    "    for i in range(0, s, step):\n",
    "        up_sum = 0\n",
    "        up_flag = 0\n",
    "        down_sum = 0\n",
    "        down_flag = 0\n",
    "\n",
    "        flag = 0\n",
    "        if i + 14 > s:\n",
    "                break\n",
    "        for j in range(i, i + 14):\n",
    "            if flag == 12:\n",
    "                break\n",
    "            r = df.iloc[j + 1]['Oil'] - df.iloc[j]['Oil']\n",
    "            if r > 0:\n",
    "                up_sum = up_sum + df.iloc[j + 1]['Oil']\n",
    "                up_flag = up_flag + 1\n",
    "            if r < 0:\n",
    "                down_sum = down_sum + df.iloc[j + 1]['Oil']\n",
    "                down_flag = down_flag + 1\n",
    "            j = j + 1\n",
    "            flag = flag +1\n",
    "\n",
    "        mean_up = up_sum / up_flag\n",
    "        mean_down = down_sum / down_flag\n",
    "\n",
    "\n",
    "        rs = RS(mean_up, mean_down)\n",
    "        rsi = RSI(rs)\n",
    "\n",
    "        rs_list.append(rs)\n",
    "        rsi_list.append(rsi)\n",
    "\n",
    "        # Get date\n",
    "        date = df.iloc[i + step -1][\"Date\"]\n",
    "        # Get Price\n",
    "        price = df.iloc[i + nth][\"Oil\"]\n",
    "\n",
    "        date_list.append(date)\n",
    "        oil_price.append(price)\n",
    "        \n",
    "        oil_test = pd.DataFrame({\"date\": date_list, \"oil_price\": oil_price, \"rsi\": rsi_list})\n",
    "    \n",
    "    return oil_test, nth"
   ]
  },
  {
   "cell_type": "code",
   "execution_count": 12,
   "metadata": {
    "collapsed": true
   },
   "outputs": [],
   "source": [
    "def change(xx, baseline):\n",
    "    if xx < baseline:\n",
    "        return -1\n",
    "    if xx > baseline:\n",
    "        return 1"
   ]
  },
  {
   "cell_type": "code",
   "execution_count": 14,
   "metadata": {
    "collapsed": true
   },
   "outputs": [],
   "source": [
    "def profit(df):\n",
    "    profit = 0\n",
    "    signal = 0\n",
    "    date = []\n",
    "    trading_signal = []\n",
    "    price_list = []\n",
    "    for index in df.index:\n",
    "        sig = df.loc[index][\"signal\"]\n",
    "        if sig != signal:\n",
    "            if sig == -1:\n",
    "                price = df.loc[index][\"oil_price\"]\n",
    "#                 print(\"Sell at the price of {0} on {1}\\n\".format(price,df.loc[index][\"date\"]))\n",
    "                profit = profit + price\n",
    "            if sig == 1:\n",
    "                price = df.loc[index][\"oil_price\"]\n",
    "#                 print(\"Buy at the price of {0} on {1}\\n\".format(price,df.loc[index][\"date\"]))\n",
    "                profit = profit - price\n",
    "            date.append(df.loc[index][\"date\"])\n",
    "            trading_signal.append(sig)\n",
    "            price_list.append(df.loc[index][\"oil_price\"])\n",
    "        signal = sig\n",
    "    datf = {\"date\": date, \"signal\": trading_signal, \"price\": price_list}\n",
    "    df = pd.DataFrame(datf)\n",
    "    print(type(profit))\n",
    "    return profit, df"
   ]
  },
  {
   "cell_type": "code",
   "execution_count": 15,
   "metadata": {},
   "outputs": [
    {
     "data": {
      "text/plain": [
       "<function __main__.profit>"
      ]
     },
     "execution_count": 15,
     "metadata": {},
     "output_type": "execute_result"
    }
   ],
   "source": [
    "profit\n",
    "# mean std percent"
   ]
  },
  {
   "cell_type": "code",
   "execution_count": 16,
   "metadata": {},
   "outputs": [
    {
     "data": {
      "text/html": [
       "<div>\n",
       "<style scoped>\n",
       "    .dataframe tbody tr th:only-of-type {\n",
       "        vertical-align: middle;\n",
       "    }\n",
       "\n",
       "    .dataframe tbody tr th {\n",
       "        vertical-align: top;\n",
       "    }\n",
       "\n",
       "    .dataframe thead th {\n",
       "        text-align: right;\n",
       "    }\n",
       "</style>\n",
       "<table border=\"1\" class=\"dataframe\">\n",
       "  <thead>\n",
       "    <tr style=\"text-align: right;\">\n",
       "      <th></th>\n",
       "      <th>Date</th>\n",
       "      <th>Oil</th>\n",
       "      <th>Gas</th>\n",
       "    </tr>\n",
       "  </thead>\n",
       "  <tbody>\n",
       "    <tr>\n",
       "      <th>0</th>\n",
       "      <td>5/8/13</td>\n",
       "      <td>103.79</td>\n",
       "      <td>3.86</td>\n",
       "    </tr>\n",
       "    <tr>\n",
       "      <th>1</th>\n",
       "      <td>5/9/13</td>\n",
       "      <td>103.59</td>\n",
       "      <td>3.87</td>\n",
       "    </tr>\n",
       "    <tr>\n",
       "      <th>2</th>\n",
       "      <td>5/10/13</td>\n",
       "      <td>101.31</td>\n",
       "      <td>3.90</td>\n",
       "    </tr>\n",
       "    <tr>\n",
       "      <th>3</th>\n",
       "      <td>5/13/13</td>\n",
       "      <td>102.17</td>\n",
       "      <td>3.87</td>\n",
       "    </tr>\n",
       "    <tr>\n",
       "      <th>4</th>\n",
       "      <td>5/14/13</td>\n",
       "      <td>102.70</td>\n",
       "      <td>3.93</td>\n",
       "    </tr>\n",
       "  </tbody>\n",
       "</table>\n",
       "</div>"
      ],
      "text/plain": [
       "      Date     Oil   Gas\n",
       "0   5/8/13  103.79  3.86\n",
       "1   5/9/13  103.59  3.87\n",
       "2  5/10/13  101.31  3.90\n",
       "3  5/13/13  102.17  3.87\n",
       "4  5/14/13  102.70  3.93"
      ]
     },
     "execution_count": 16,
     "metadata": {},
     "output_type": "execute_result"
    }
   ],
   "source": [
    "df.head()"
   ]
  },
  {
   "cell_type": "markdown",
   "metadata": {},
   "source": [
    "# 正文"
   ]
  },
  {
   "cell_type": "code",
   "execution_count": 17,
   "metadata": {
    "collapsed": true
   },
   "outputs": [],
   "source": [
    "profit_df = pd.DataFrame(columns=['step', 'nth', 'baseline', 'profit'])\n",
    "nth_list = []\n",
    "steps = [5, 9, 14]\n",
    "k = 0"
   ]
  },
  {
   "cell_type": "code",
   "execution_count": 20,
   "metadata": {},
   "outputs": [
    {
     "name": "stdout",
     "output_type": "stream",
     "text": [
      "<class 'numpy.float64'>\n",
      "<class 'numpy.float64'>\n",
      "<class 'numpy.float64'>\n",
      "<class 'numpy.float64'>\n",
      "<class 'numpy.float64'>\n",
      "<class 'numpy.float64'>\n",
      "<class 'numpy.float64'>\n",
      "14 10 50.29209779716759 78.06000000000002\n",
      "<class 'numpy.float64'>\n",
      "14 10 50.35943067733591 95.16000000000001\n",
      "<class 'numpy.float64'>\n",
      "14 10 50.25 65.1\n"
     ]
    }
   ],
   "source": [
    "\n",
    "for step in steps:\n",
    "    oil_test, nth = rsi_df(s, step, nth_list)\n",
    "#     print(\"oil_test\", type(oil_test))\n",
    "#     oil_test.head()\n",
    "    baselines = [oil_test['rsi'].median(), oil_test['rsi'].mean(), 50.25]\n",
    "    for baseline in baselines:\n",
    "        oil_test[\"signal\"] = oil_test[\"rsi\"].apply (lambda x: change(x, baseline))\n",
    "        profits, _ = profit(oil_test)\n",
    "        k+=1\n",
    "        if step == 14:\n",
    "            print(step, nth, baseline, profits)\n",
    "        profit_df.loc[k] = [step, nth, baseline, profits]\n",
    "        \n",
    "    "
   ]
  },
  {
   "cell_type": "code",
   "execution_count": 95,
   "metadata": {},
   "outputs": [
    {
     "data": {
      "text/html": [
       "<div>\n",
       "<style scoped>\n",
       "    .dataframe tbody tr th:only-of-type {\n",
       "        vertical-align: middle;\n",
       "    }\n",
       "\n",
       "    .dataframe tbody tr th {\n",
       "        vertical-align: top;\n",
       "    }\n",
       "\n",
       "    .dataframe thead th {\n",
       "        text-align: right;\n",
       "    }\n",
       "</style>\n",
       "<table border=\"1\" class=\"dataframe\">\n",
       "  <thead>\n",
       "    <tr style=\"text-align: right;\">\n",
       "      <th></th>\n",
       "      <th>step</th>\n",
       "      <th>nth</th>\n",
       "      <th>baseline</th>\n",
       "      <th>profit</th>\n",
       "    </tr>\n",
       "  </thead>\n",
       "  <tbody>\n",
       "    <tr>\n",
       "      <th>1</th>\n",
       "      <td>5.0</td>\n",
       "      <td>2.0</td>\n",
       "      <td>50.268722</td>\n",
       "      <td>9.17</td>\n",
       "    </tr>\n",
       "    <tr>\n",
       "      <th>2</th>\n",
       "      <td>5.0</td>\n",
       "      <td>2.0</td>\n",
       "      <td>50.387928</td>\n",
       "      <td>99.80</td>\n",
       "    </tr>\n",
       "    <tr>\n",
       "      <th>3</th>\n",
       "      <td>5.0</td>\n",
       "      <td>2.0</td>\n",
       "      <td>50.250000</td>\n",
       "      <td>19.27</td>\n",
       "    </tr>\n",
       "    <tr>\n",
       "      <th>4</th>\n",
       "      <td>9.0</td>\n",
       "      <td>3.0</td>\n",
       "      <td>50.275128</td>\n",
       "      <td>76.35</td>\n",
       "    </tr>\n",
       "    <tr>\n",
       "      <th>5</th>\n",
       "      <td>9.0</td>\n",
       "      <td>3.0</td>\n",
       "      <td>50.373924</td>\n",
       "      <td>90.90</td>\n",
       "    </tr>\n",
       "    <tr>\n",
       "      <th>6</th>\n",
       "      <td>9.0</td>\n",
       "      <td>3.0</td>\n",
       "      <td>50.250000</td>\n",
       "      <td>76.78</td>\n",
       "    </tr>\n",
       "    <tr>\n",
       "      <th>7</th>\n",
       "      <td>14.0</td>\n",
       "      <td>10.0</td>\n",
       "      <td>50.292098</td>\n",
       "      <td>78.06</td>\n",
       "    </tr>\n",
       "    <tr>\n",
       "      <th>8</th>\n",
       "      <td>14.0</td>\n",
       "      <td>10.0</td>\n",
       "      <td>50.359431</td>\n",
       "      <td>95.16</td>\n",
       "    </tr>\n",
       "    <tr>\n",
       "      <th>9</th>\n",
       "      <td>14.0</td>\n",
       "      <td>10.0</td>\n",
       "      <td>50.250000</td>\n",
       "      <td>65.10</td>\n",
       "    </tr>\n",
       "    <tr>\n",
       "      <th>10</th>\n",
       "      <td>5.0</td>\n",
       "      <td>1.0</td>\n",
       "      <td>50.268722</td>\n",
       "      <td>25.17</td>\n",
       "    </tr>\n",
       "    <tr>\n",
       "      <th>11</th>\n",
       "      <td>5.0</td>\n",
       "      <td>1.0</td>\n",
       "      <td>50.387928</td>\n",
       "      <td>113.39</td>\n",
       "    </tr>\n",
       "    <tr>\n",
       "      <th>12</th>\n",
       "      <td>5.0</td>\n",
       "      <td>1.0</td>\n",
       "      <td>50.250000</td>\n",
       "      <td>36.75</td>\n",
       "    </tr>\n",
       "    <tr>\n",
       "      <th>13</th>\n",
       "      <td>9.0</td>\n",
       "      <td>7.0</td>\n",
       "      <td>50.275128</td>\n",
       "      <td>85.90</td>\n",
       "    </tr>\n",
       "    <tr>\n",
       "      <th>14</th>\n",
       "      <td>9.0</td>\n",
       "      <td>7.0</td>\n",
       "      <td>50.373924</td>\n",
       "      <td>121.52</td>\n",
       "    </tr>\n",
       "    <tr>\n",
       "      <th>15</th>\n",
       "      <td>9.0</td>\n",
       "      <td>7.0</td>\n",
       "      <td>50.250000</td>\n",
       "      <td>84.59</td>\n",
       "    </tr>\n",
       "    <tr>\n",
       "      <th>16</th>\n",
       "      <td>14.0</td>\n",
       "      <td>3.0</td>\n",
       "      <td>50.292098</td>\n",
       "      <td>68.43</td>\n",
       "    </tr>\n",
       "    <tr>\n",
       "      <th>17</th>\n",
       "      <td>14.0</td>\n",
       "      <td>3.0</td>\n",
       "      <td>50.359431</td>\n",
       "      <td>80.30</td>\n",
       "    </tr>\n",
       "    <tr>\n",
       "      <th>18</th>\n",
       "      <td>14.0</td>\n",
       "      <td>3.0</td>\n",
       "      <td>50.250000</td>\n",
       "      <td>52.03</td>\n",
       "    </tr>\n",
       "    <tr>\n",
       "      <th>19</th>\n",
       "      <td>5.0</td>\n",
       "      <td>2.0</td>\n",
       "      <td>50.268722</td>\n",
       "      <td>9.17</td>\n",
       "    </tr>\n",
       "    <tr>\n",
       "      <th>20</th>\n",
       "      <td>5.0</td>\n",
       "      <td>2.0</td>\n",
       "      <td>50.387928</td>\n",
       "      <td>99.80</td>\n",
       "    </tr>\n",
       "    <tr>\n",
       "      <th>21</th>\n",
       "      <td>5.0</td>\n",
       "      <td>2.0</td>\n",
       "      <td>50.250000</td>\n",
       "      <td>19.27</td>\n",
       "    </tr>\n",
       "    <tr>\n",
       "      <th>22</th>\n",
       "      <td>9.0</td>\n",
       "      <td>2.0</td>\n",
       "      <td>50.275128</td>\n",
       "      <td>68.60</td>\n",
       "    </tr>\n",
       "    <tr>\n",
       "      <th>23</th>\n",
       "      <td>9.0</td>\n",
       "      <td>2.0</td>\n",
       "      <td>50.373924</td>\n",
       "      <td>86.57</td>\n",
       "    </tr>\n",
       "    <tr>\n",
       "      <th>24</th>\n",
       "      <td>9.0</td>\n",
       "      <td>2.0</td>\n",
       "      <td>50.250000</td>\n",
       "      <td>70.39</td>\n",
       "    </tr>\n",
       "    <tr>\n",
       "      <th>25</th>\n",
       "      <td>14.0</td>\n",
       "      <td>6.0</td>\n",
       "      <td>50.292098</td>\n",
       "      <td>74.94</td>\n",
       "    </tr>\n",
       "    <tr>\n",
       "      <th>26</th>\n",
       "      <td>14.0</td>\n",
       "      <td>6.0</td>\n",
       "      <td>50.359431</td>\n",
       "      <td>84.91</td>\n",
       "    </tr>\n",
       "    <tr>\n",
       "      <th>27</th>\n",
       "      <td>14.0</td>\n",
       "      <td>6.0</td>\n",
       "      <td>50.250000</td>\n",
       "      <td>62.45</td>\n",
       "    </tr>\n",
       "  </tbody>\n",
       "</table>\n",
       "</div>"
      ],
      "text/plain": [
       "    step   nth   baseline  profit\n",
       "1    5.0   2.0  50.268722    9.17\n",
       "2    5.0   2.0  50.387928   99.80\n",
       "3    5.0   2.0  50.250000   19.27\n",
       "4    9.0   3.0  50.275128   76.35\n",
       "5    9.0   3.0  50.373924   90.90\n",
       "6    9.0   3.0  50.250000   76.78\n",
       "7   14.0  10.0  50.292098   78.06\n",
       "8   14.0  10.0  50.359431   95.16\n",
       "9   14.0  10.0  50.250000   65.10\n",
       "10   5.0   1.0  50.268722   25.17\n",
       "11   5.0   1.0  50.387928  113.39\n",
       "12   5.0   1.0  50.250000   36.75\n",
       "13   9.0   7.0  50.275128   85.90\n",
       "14   9.0   7.0  50.373924  121.52\n",
       "15   9.0   7.0  50.250000   84.59\n",
       "16  14.0   3.0  50.292098   68.43\n",
       "17  14.0   3.0  50.359431   80.30\n",
       "18  14.0   3.0  50.250000   52.03\n",
       "19   5.0   2.0  50.268722    9.17\n",
       "20   5.0   2.0  50.387928   99.80\n",
       "21   5.0   2.0  50.250000   19.27\n",
       "22   9.0   2.0  50.275128   68.60\n",
       "23   9.0   2.0  50.373924   86.57\n",
       "24   9.0   2.0  50.250000   70.39\n",
       "25  14.0   6.0  50.292098   74.94\n",
       "26  14.0   6.0  50.359431   84.91\n",
       "27  14.0   6.0  50.250000   62.45"
      ]
     },
     "execution_count": 95,
     "metadata": {},
     "output_type": "execute_result"
    }
   ],
   "source": [
    "profit_df"
   ]
  },
  {
   "cell_type": "markdown",
   "metadata": {},
   "source": [
    "## "
   ]
  },
  {
   "cell_type": "code",
   "execution_count": null,
   "metadata": {
    "collapsed": true
   },
   "outputs": [],
   "source": [
    "rs_list = []\n",
    "rsi_list = []\n",
    "# 14 is the step\n",
    "\n",
    "\n",
    "\n",
    "for i in range(0, s, 14):\n",
    "    up_sum = 0\n",
    "    up_flag = 0\n",
    "    down_sum = 0\n",
    "    down_flag = 0\n",
    "\n",
    "    flag = 0\n",
    "    if i + 14 > s:\n",
    "            break\n",
    "    for j in range(i, i + 14):\n",
    "        if flag == 12:\n",
    "            break\n",
    "        r = df.iloc[j + 1]['Oil'] - df.iloc[j]['Oil']\n",
    "        if r > 0:\n",
    "            up_sum = up_sum + df.iloc[j + 1]['Oil']\n",
    "            up_flag = up_flag + 1\n",
    "        if r < 0:\n",
    "            down_sum = down_sum + df.iloc[j + 1]['Oil']\n",
    "            down_flag = down_flag + 1\n",
    "        j = j + 1\n",
    "        flag = flag +1\n",
    "        \n",
    "        # Get date\n",
    "        date = df.iloc[i + 13][\"Date\"]\n",
    "        # Get Price\n",
    "        date = df.iloc[ithday][\"Oil\"]\n",
    "        \n",
    "    mean_up = up_sum / up_flag\n",
    "    mean_down = down_sum / down_flag\n",
    "    \n",
    "\n",
    "    rs = RS(mean_up, mean_down)\n",
    "    rsi = RSI(rs)\n",
    "\n",
    "    rs_list.append(rs)\n",
    "    rsi_list.append(rsi)\n",
    "\n",
    "        "
   ]
  },
  {
   "cell_type": "code",
   "execution_count": 11,
   "metadata": {},
   "outputs": [
    {
     "data": {
      "text/html": [
       "<div>\n",
       "<style scoped>\n",
       "    .dataframe tbody tr th:only-of-type {\n",
       "        vertical-align: middle;\n",
       "    }\n",
       "\n",
       "    .dataframe tbody tr th {\n",
       "        vertical-align: top;\n",
       "    }\n",
       "\n",
       "    .dataframe thead th {\n",
       "        text-align: right;\n",
       "    }\n",
       "</style>\n",
       "<table border=\"1\" class=\"dataframe\">\n",
       "  <thead>\n",
       "    <tr style=\"text-align: right;\">\n",
       "      <th></th>\n",
       "      <th>rs</th>\n",
       "    </tr>\n",
       "  </thead>\n",
       "  <tbody>\n",
       "    <tr>\n",
       "      <th>0</th>\n",
       "      <td>1.006846</td>\n",
       "    </tr>\n",
       "    <tr>\n",
       "      <th>1</th>\n",
       "      <td>1.010479</td>\n",
       "    </tr>\n",
       "    <tr>\n",
       "      <th>2</th>\n",
       "      <td>1.031274</td>\n",
       "    </tr>\n",
       "    <tr>\n",
       "      <th>3</th>\n",
       "      <td>1.006202</td>\n",
       "    </tr>\n",
       "    <tr>\n",
       "      <th>4</th>\n",
       "      <td>1.006535</td>\n",
       "    </tr>\n",
       "  </tbody>\n",
       "</table>\n",
       "</div>"
      ],
      "text/plain": [
       "         rs\n",
       "0  1.006846\n",
       "1  1.010479\n",
       "2  1.031274\n",
       "3  1.006202\n",
       "4  1.006535"
      ]
     },
     "execution_count": 11,
     "metadata": {},
     "output_type": "execute_result"
    }
   ],
   "source": [
    "rs_df = pd.DataFrame({'rs': rs_list})\n",
    "rs_df.head()\n"
   ]
  },
  {
   "cell_type": "code",
   "execution_count": 146,
   "metadata": {},
   "outputs": [
    {
     "data": {
      "text/html": [
       "<div>\n",
       "<style scoped>\n",
       "    .dataframe tbody tr th:only-of-type {\n",
       "        vertical-align: middle;\n",
       "    }\n",
       "\n",
       "    .dataframe tbody tr th {\n",
       "        vertical-align: top;\n",
       "    }\n",
       "\n",
       "    .dataframe thead th {\n",
       "        text-align: right;\n",
       "    }\n",
       "</style>\n",
       "<table border=\"1\" class=\"dataframe\">\n",
       "  <thead>\n",
       "    <tr style=\"text-align: right;\">\n",
       "      <th></th>\n",
       "      <th>rsi</th>\n",
       "    </tr>\n",
       "  </thead>\n",
       "  <tbody>\n",
       "    <tr>\n",
       "      <th>0</th>\n",
       "      <td>50.170575</td>\n",
       "    </tr>\n",
       "    <tr>\n",
       "      <th>1</th>\n",
       "      <td>50.260606</td>\n",
       "    </tr>\n",
       "    <tr>\n",
       "      <th>2</th>\n",
       "      <td>50.769810</td>\n",
       "    </tr>\n",
       "    <tr>\n",
       "      <th>3</th>\n",
       "      <td>50.154574</td>\n",
       "    </tr>\n",
       "    <tr>\n",
       "      <th>4</th>\n",
       "      <td>50.162852</td>\n",
       "    </tr>\n",
       "  </tbody>\n",
       "</table>\n",
       "</div>"
      ],
      "text/plain": [
       "         rsi\n",
       "0  50.170575\n",
       "1  50.260606\n",
       "2  50.769810\n",
       "3  50.154574\n",
       "4  50.162852"
      ]
     },
     "execution_count": 146,
     "metadata": {},
     "output_type": "execute_result"
    }
   ],
   "source": [
    "rsi_df = pd.DataFrame({'rsi': rsi_list})\n",
    "rsi_df.head()"
   ]
  },
  {
   "cell_type": "code",
   "execution_count": 151,
   "metadata": {
    "collapsed": true
   },
   "outputs": [],
   "source": [
    "index = np.arange(0, rsi_df.size)\n",
    "rsi_df.insert(0, 'index', index)"
   ]
  },
  {
   "cell_type": "code",
   "execution_count": 152,
   "metadata": {},
   "outputs": [
    {
     "data": {
      "text/html": [
       "<div>\n",
       "<style scoped>\n",
       "    .dataframe tbody tr th:only-of-type {\n",
       "        vertical-align: middle;\n",
       "    }\n",
       "\n",
       "    .dataframe tbody tr th {\n",
       "        vertical-align: top;\n",
       "    }\n",
       "\n",
       "    .dataframe thead th {\n",
       "        text-align: right;\n",
       "    }\n",
       "</style>\n",
       "<table border=\"1\" class=\"dataframe\">\n",
       "  <thead>\n",
       "    <tr style=\"text-align: right;\">\n",
       "      <th></th>\n",
       "      <th>index</th>\n",
       "      <th>rsi</th>\n",
       "    </tr>\n",
       "  </thead>\n",
       "  <tbody>\n",
       "    <tr>\n",
       "      <th>0</th>\n",
       "      <td>0</td>\n",
       "      <td>50.170575</td>\n",
       "    </tr>\n",
       "    <tr>\n",
       "      <th>1</th>\n",
       "      <td>1</td>\n",
       "      <td>50.260606</td>\n",
       "    </tr>\n",
       "    <tr>\n",
       "      <th>2</th>\n",
       "      <td>2</td>\n",
       "      <td>50.769810</td>\n",
       "    </tr>\n",
       "    <tr>\n",
       "      <th>3</th>\n",
       "      <td>3</td>\n",
       "      <td>50.154574</td>\n",
       "    </tr>\n",
       "    <tr>\n",
       "      <th>4</th>\n",
       "      <td>4</td>\n",
       "      <td>50.162852</td>\n",
       "    </tr>\n",
       "  </tbody>\n",
       "</table>\n",
       "</div>"
      ],
      "text/plain": [
       "   index        rsi\n",
       "0      0  50.170575\n",
       "1      1  50.260606\n",
       "2      2  50.769810\n",
       "3      3  50.154574\n",
       "4      4  50.162852"
      ]
     },
     "execution_count": 152,
     "metadata": {},
     "output_type": "execute_result"
    }
   ],
   "source": [
    "rsi_df.head()"
   ]
  },
  {
   "cell_type": "code",
   "execution_count": 153,
   "metadata": {},
   "outputs": [
    {
     "data": {
      "text/plain": [
       "<matplotlib.figure.Figure at 0x10938c978>"
      ]
     },
     "metadata": {},
     "output_type": "display_data"
    }
   ],
   "source": [
    "import matplotlib.pyplot as plt\n",
    "fig = plt.figure(figsize=(20,8))"
   ]
  },
  {
   "cell_type": "code",
   "execution_count": 154,
   "metadata": {},
   "outputs": [
    {
     "data": {
      "text/html": [
       "<div>\n",
       "<style scoped>\n",
       "    .dataframe tbody tr th:only-of-type {\n",
       "        vertical-align: middle;\n",
       "    }\n",
       "\n",
       "    .dataframe tbody tr th {\n",
       "        vertical-align: top;\n",
       "    }\n",
       "\n",
       "    .dataframe thead th {\n",
       "        text-align: right;\n",
       "    }\n",
       "</style>\n",
       "<table border=\"1\" class=\"dataframe\">\n",
       "  <thead>\n",
       "    <tr style=\"text-align: right;\">\n",
       "      <th></th>\n",
       "      <th>index</th>\n",
       "      <th>rsi</th>\n",
       "    </tr>\n",
       "  </thead>\n",
       "  <tbody>\n",
       "    <tr>\n",
       "      <th>0</th>\n",
       "      <td>0</td>\n",
       "      <td>50.170575</td>\n",
       "    </tr>\n",
       "    <tr>\n",
       "      <th>1</th>\n",
       "      <td>1</td>\n",
       "      <td>50.260606</td>\n",
       "    </tr>\n",
       "    <tr>\n",
       "      <th>2</th>\n",
       "      <td>2</td>\n",
       "      <td>50.769810</td>\n",
       "    </tr>\n",
       "    <tr>\n",
       "      <th>3</th>\n",
       "      <td>3</td>\n",
       "      <td>50.154574</td>\n",
       "    </tr>\n",
       "    <tr>\n",
       "      <th>4</th>\n",
       "      <td>4</td>\n",
       "      <td>50.162852</td>\n",
       "    </tr>\n",
       "  </tbody>\n",
       "</table>\n",
       "</div>"
      ],
      "text/plain": [
       "   index        rsi\n",
       "0      0  50.170575\n",
       "1      1  50.260606\n",
       "2      2  50.769810\n",
       "3      3  50.154574\n",
       "4      4  50.162852"
      ]
     },
     "execution_count": 154,
     "metadata": {},
     "output_type": "execute_result"
    }
   ],
   "source": [
    "rsi_df.head()"
   ]
  },
  {
   "cell_type": "code",
   "execution_count": 155,
   "metadata": {},
   "outputs": [
    {
     "data": {
      "text/plain": [
       "index      int64\n",
       "rsi      float64\n",
       "dtype: object"
      ]
     },
     "execution_count": 155,
     "metadata": {},
     "output_type": "execute_result"
    }
   ],
   "source": [
    "rsi_df.dtypes"
   ]
  },
  {
   "cell_type": "code",
   "execution_count": 148,
   "metadata": {},
   "outputs": [
    {
     "data": {
      "text/plain": [
       "Text(0.5,1,'Oil_rsi')"
      ]
     },
     "execution_count": 148,
     "metadata": {},
     "output_type": "execute_result"
    },
    {
     "data": {
      "image/png": "[encoded data removed]",
      "text/plain": [
       "<matplotlib.figure.Figure at 0x1093a34a8>"
      ]
     },
     "metadata": {},
     "output_type": "display_data"
    }
   ],
   "source": [
    "plt.plot(rsi_df)\n",
    "plt.title(\"Oil_rsi\")"
   ]
  },
  {
   "cell_type": "code",
   "execution_count": 115,
   "metadata": {},
   "outputs": [
    {
     "data": {
      "text/plain": [
       "50.35943067733591"
      ]
     },
     "execution_count": 115,
     "metadata": {},
     "output_type": "execute_result"
    }
   ],
   "source": [
    "rsi_df[\"rsi\"].mean()"
   ]
  },
  {
   "cell_type": "code",
   "execution_count": 116,
   "metadata": {},
   "outputs": [
    {
     "data": {
      "text/plain": [
       "180"
      ]
     },
     "execution_count": 116,
     "metadata": {},
     "output_type": "execute_result"
    }
   ],
   "source": [
    "size = rsi_df.size\n",
    "size"
   ]
  },
  {
   "cell_type": "code",
   "execution_count": null,
   "metadata": {
    "collapsed": true
   },
   "outputs": [],
   "source": [
    "def profit(step, rsi_df):\n",
    "    # Baseline: rsi_df[\"rsi\"].mean()\n",
    "    base = rsi_df[\"rsi\"].mean()\n",
    "    b_s = 0\n",
    "    s_s = 0\n",
    "\n",
    "    b_f = 1\n",
    "    s_f = 1\n",
    "\n",
    "    b_v = 0\n",
    "    s_v = 0\n",
    "\n",
    "    profit = 0\n",
    "\n",
    "    for row in rsi_df.iterrows():\n",
    "        if row[1][\"rsi\"] > base:\n",
    "            if b_f == 0:\n",
    "                continue\n",
    "            b_s = b_s + 1\n",
    "            index = (row[1][\"index\"] + 1) * 14 - 1\n",
    "            print(int(index)\n",
    "#             b_v = df[index]\n",
    "            if b_s == step:\n",
    "                b_f = 0\n",
    "                s_f = 1\n",
    "                print(\"Sell at the price of $\", b_v)\n",
    "#                 profit = profit - b_v\n",
    "                continue\n",
    "        \n",
    "        if row[1][\"rsi\"] < base:\n",
    "            if s_f == 0:\n",
    "                continue\n",
    "            s_s = s_s + 1\n",
    "            index = (row[1][\"index\"] + 1) * 14 - 1\n",
    "            print(int(index)\n",
    "#             s_v = df[index]\n",
    "           # s_v = price at that time\n",
    "            \n",
    "            if s_s == step:\n",
    "                s_f = 0\n",
    "                b_f = 1\n",
    "                print(\"Buy at the price of $\", s_v)\n",
    "#                 profit = profit + s_v\n",
    "                continue\n",
    "    "
   ]
  },
  {
   "cell_type": "markdown",
   "metadata": {},
   "source": [
    "## Gas RSI"
   ]
  },
  {
   "cell_type": "code",
   "execution_count": 75,
   "metadata": {
    "collapsed": true
   },
   "outputs": [],
   "source": [
    "rs_list = []\n",
    "rsi_list = []\n",
    "for i in range(0, s, 14):\n",
    "    if i >= 3000:\n",
    "        break\n",
    "    up_sum = 0\n",
    "    up_flag = 0\n",
    "    down_sum = 0\n",
    "    down_flag = 0\n",
    "    \n",
    "    flag = 0\n",
    "    for j in range(i, i + 14):\n",
    "        if flag == 14:\n",
    "            break\n",
    "        try:\n",
    "            r = df.iloc[j + 1]['Gas'] - df.iloc[j]['Gas']\n",
    "            if r > 0:\n",
    "                up_sum = up_sum + df.iloc[j + 1]['Gas']\n",
    "                up_flag = up_flag + 1\n",
    "            if r < 0:\n",
    "                down_sum = down_sum + df.iloc[j + 1]['Gas']\n",
    "                down_flag = down_flag + 1\n",
    "            j = j + 1\n",
    "            flag = flag + 1\n",
    "        except:\n",
    "            pass\n",
    "    \n",
    "    if up_flag + down_flag == 10 and up_sum == 19.73 and down_sum == 8.42:\n",
    "        break\n",
    "        \n",
    "    mean_up = up_sum / up_flag\n",
    "    mean_down = down_sum / down_flag\n",
    "    \n",
    "    rs = RS(mean_up, mean_down)\n",
    "    rsi = RSI(rs)\n",
    "    \n",
    "    rs_list.append(rs)\n",
    "    rsi_list.append(rsi)\n",
    "    \n",
    "#     n = 1\n",
    "#     result[n] = rsi\n",
    "#     n = n + 1"
   ]
  },
  {
   "cell_type": "code",
   "execution_count": 76,
   "metadata": {},
   "outputs": [
    {
     "data": {
      "text/html": [
       "<div>\n",
       "<style scoped>\n",
       "    .dataframe tbody tr th:only-of-type {\n",
       "        vertical-align: middle;\n",
       "    }\n",
       "\n",
       "    .dataframe tbody tr th {\n",
       "        vertical-align: top;\n",
       "    }\n",
       "\n",
       "    .dataframe thead th {\n",
       "        text-align: right;\n",
       "    }\n",
       "</style>\n",
       "<table border=\"1\" class=\"dataframe\">\n",
       "  <thead>\n",
       "    <tr style=\"text-align: right;\">\n",
       "      <th></th>\n",
       "      <th>rs</th>\n",
       "    </tr>\n",
       "  </thead>\n",
       "  <tbody>\n",
       "    <tr>\n",
       "      <th>0</th>\n",
       "      <td>1.006166</td>\n",
       "    </tr>\n",
       "    <tr>\n",
       "      <th>1</th>\n",
       "      <td>0.980408</td>\n",
       "    </tr>\n",
       "    <tr>\n",
       "      <th>2</th>\n",
       "      <td>1.007349</td>\n",
       "    </tr>\n",
       "    <tr>\n",
       "      <th>3</th>\n",
       "      <td>1.020165</td>\n",
       "    </tr>\n",
       "    <tr>\n",
       "      <th>4</th>\n",
       "      <td>0.989715</td>\n",
       "    </tr>\n",
       "  </tbody>\n",
       "</table>\n",
       "</div>"
      ],
      "text/plain": [
       "         rs\n",
       "0  1.006166\n",
       "1  0.980408\n",
       "2  1.007349\n",
       "3  1.020165\n",
       "4  0.989715"
      ]
     },
     "execution_count": 76,
     "metadata": {},
     "output_type": "execute_result"
    }
   ],
   "source": [
    "rs_df = pd.DataFrame({'rs': rs_list})\n",
    "rs_df.head()\n"
   ]
  },
  {
   "cell_type": "code",
   "execution_count": 77,
   "metadata": {},
   "outputs": [
    {
     "data": {
      "text/html": [
       "<div>\n",
       "<style scoped>\n",
       "    .dataframe tbody tr th:only-of-type {\n",
       "        vertical-align: middle;\n",
       "    }\n",
       "\n",
       "    .dataframe tbody tr th {\n",
       "        vertical-align: top;\n",
       "    }\n",
       "\n",
       "    .dataframe thead th {\n",
       "        text-align: right;\n",
       "    }\n",
       "</style>\n",
       "<table border=\"1\" class=\"dataframe\">\n",
       "  <thead>\n",
       "    <tr style=\"text-align: right;\">\n",
       "      <th></th>\n",
       "      <th>rs</th>\n",
       "    </tr>\n",
       "  </thead>\n",
       "  <tbody>\n",
       "    <tr>\n",
       "      <th>0</th>\n",
       "      <td>50.153674</td>\n",
       "    </tr>\n",
       "    <tr>\n",
       "      <th>1</th>\n",
       "      <td>49.505342</td>\n",
       "    </tr>\n",
       "    <tr>\n",
       "      <th>2</th>\n",
       "      <td>50.183062</td>\n",
       "    </tr>\n",
       "    <tr>\n",
       "      <th>3</th>\n",
       "      <td>50.499093</td>\n",
       "    </tr>\n",
       "    <tr>\n",
       "      <th>4</th>\n",
       "      <td>49.741549</td>\n",
       "    </tr>\n",
       "  </tbody>\n",
       "</table>\n",
       "</div>"
      ],
      "text/plain": [
       "          rs\n",
       "0  50.153674\n",
       "1  49.505342\n",
       "2  50.183062\n",
       "3  50.499093\n",
       "4  49.741549"
      ]
     },
     "execution_count": 77,
     "metadata": {},
     "output_type": "execute_result"
    }
   ],
   "source": [
    "rsi_df = pd.DataFrame({'rs': rsi_list})\n",
    "rsi_df.head()"
   ]
  },
  {
   "cell_type": "code",
   "execution_count": 78,
   "metadata": {},
   "outputs": [
    {
     "data": {
      "text/plain": [
       "Text(0.5,1,'Gas_rsi')"
      ]
     },
     "execution_count": 78,
     "metadata": {},
     "output_type": "execute_result"
    },
    {
     "data": {
      "image/png": "[encoded data removed]",
      "text/plain": [
       "<matplotlib.figure.Figure at 0x1094e6da0>"
      ]
     },
     "metadata": {},
     "output_type": "display_data"
    }
   ],
   "source": [
    "plt.plot(rsi_df)\n",
    "plt.title(\"Gas_rsi\")"
   ]
  },
  {
   "cell_type": "code",
   "execution_count": 97,
   "metadata": {
    "collapsed": true
   },
   "outputs": [],
   "source": [
    "oil_5, _ = rsi_df(s, 5, [])"
   ]
  },
  {
   "cell_type": "code",
   "execution_count": 98,
   "metadata": {
    "collapsed": true
   },
   "outputs": [],
   "source": [
    "oil_9, _ = rsi_df(s, 9, [])"
   ]
  },
  {
   "cell_type": "code",
   "execution_count": 99,
   "metadata": {
    "collapsed": true
   },
   "outputs": [],
   "source": [
    "oil_14, _ = rsi_df(s, 14, [])"
   ]
  },
  {
   "cell_type": "code",
   "execution_count": 100,
   "metadata": {
    "collapsed": true
   },
   "outputs": [],
   "source": [
    "oil_5[\"signal\"] = oil_5[\"rsi\"].apply (lambda x: change(x, oil_5['rsi'].mean()))\n",
    "oil_5.to_csv(\"RSI_5.csv\")"
   ]
  },
  {
   "cell_type": "code",
   "execution_count": 101,
   "metadata": {
    "collapsed": true
   },
   "outputs": [],
   "source": [
    "oil_9[\"signal\"] = oil_9[\"rsi\"].apply (lambda x: change(x, oil_9['rsi'].mean()))\n",
    "oil_9.to_csv(\"RSI_9.csv\")"
   ]
  },
  {
   "cell_type": "code",
   "execution_count": 102,
   "metadata": {
    "collapsed": true
   },
   "outputs": [],
   "source": [
    "oil_14[\"signal\"] = oil_14[\"rsi\"].apply (lambda x: change(x, oil_14['rsi'].mean()))\n",
    "oil_9.to_csv(\"RSI_14.csv\")"
   ]
  },
  {
   "cell_type": "code",
   "execution_count": 104,
   "metadata": {},
   "outputs": [
    {
     "data": {
      "text/html": [
       "<div>\n",
       "<style scoped>\n",
       "    .dataframe tbody tr th:only-of-type {\n",
       "        vertical-align: middle;\n",
       "    }\n",
       "\n",
       "    .dataframe tbody tr th {\n",
       "        vertical-align: top;\n",
       "    }\n",
       "\n",
       "    .dataframe thead th {\n",
       "        text-align: right;\n",
       "    }\n",
       "</style>\n",
       "<table border=\"1\" class=\"dataframe\">\n",
       "  <thead>\n",
       "    <tr style=\"text-align: right;\">\n",
       "      <th></th>\n",
       "      <th>date</th>\n",
       "      <th>oil_price</th>\n",
       "      <th>rsi</th>\n",
       "      <th>signal</th>\n",
       "    </tr>\n",
       "  </thead>\n",
       "  <tbody>\n",
       "    <tr>\n",
       "      <th>0</th>\n",
       "      <td>5/14/13</td>\n",
       "      <td>103.59</td>\n",
       "      <td>50.170575</td>\n",
       "      <td>-1</td>\n",
       "    </tr>\n",
       "    <tr>\n",
       "      <th>1</th>\n",
       "      <td>5/21/13</td>\n",
       "      <td>104.27</td>\n",
       "      <td>50.270074</td>\n",
       "      <td>-1</td>\n",
       "    </tr>\n",
       "    <tr>\n",
       "      <th>2</th>\n",
       "      <td>5/29/13</td>\n",
       "      <td>100.46</td>\n",
       "      <td>50.170965</td>\n",
       "      <td>-1</td>\n",
       "    </tr>\n",
       "    <tr>\n",
       "      <th>3</th>\n",
       "      <td>6/5/13</td>\n",
       "      <td>100.43</td>\n",
       "      <td>50.312694</td>\n",
       "      <td>-1</td>\n",
       "    </tr>\n",
       "    <tr>\n",
       "      <th>4</th>\n",
       "      <td>6/12/13</td>\n",
       "      <td>104.07</td>\n",
       "      <td>50.546563</td>\n",
       "      <td>1</td>\n",
       "    </tr>\n",
       "  </tbody>\n",
       "</table>\n",
       "</div>"
      ],
      "text/plain": [
       "      date  oil_price        rsi  signal\n",
       "0  5/14/13     103.59  50.170575      -1\n",
       "1  5/21/13     104.27  50.270074      -1\n",
       "2  5/29/13     100.46  50.170965      -1\n",
       "3   6/5/13     100.43  50.312694      -1\n",
       "4  6/12/13     104.07  50.546563       1"
      ]
     },
     "execution_count": 104,
     "metadata": {},
     "output_type": "execute_result"
    }
   ],
   "source": [
    "oil_5.head()"
   ]
  },
  {
   "cell_type": "code",
   "execution_count": 105,
   "metadata": {},
   "outputs": [
    {
     "data": {
      "text/html": [
       "<div>\n",
       "<style scoped>\n",
       "    .dataframe tbody tr th:only-of-type {\n",
       "        vertical-align: middle;\n",
       "    }\n",
       "\n",
       "    .dataframe tbody tr th {\n",
       "        vertical-align: top;\n",
       "    }\n",
       "\n",
       "    .dataframe thead th {\n",
       "        text-align: right;\n",
       "    }\n",
       "</style>\n",
       "<table border=\"1\" class=\"dataframe\">\n",
       "  <thead>\n",
       "    <tr style=\"text-align: right;\">\n",
       "      <th></th>\n",
       "      <th>date</th>\n",
       "      <th>oil_price</th>\n",
       "      <th>rsi</th>\n",
       "      <th>signal</th>\n",
       "    </tr>\n",
       "  </thead>\n",
       "  <tbody>\n",
       "    <tr>\n",
       "      <th>0</th>\n",
       "      <td>5/20/13</td>\n",
       "      <td>103.59</td>\n",
       "      <td>50.170575</td>\n",
       "      <td>-1</td>\n",
       "    </tr>\n",
       "    <tr>\n",
       "      <th>1</th>\n",
       "      <td>6/3/13</td>\n",
       "      <td>102.14</td>\n",
       "      <td>50.241727</td>\n",
       "      <td>-1</td>\n",
       "    </tr>\n",
       "    <tr>\n",
       "      <th>2</th>\n",
       "      <td>6/14/13</td>\n",
       "      <td>103.51</td>\n",
       "      <td>50.247340</td>\n",
       "      <td>-1</td>\n",
       "    </tr>\n",
       "    <tr>\n",
       "      <th>3</th>\n",
       "      <td>6/27/13</td>\n",
       "      <td>105.21</td>\n",
       "      <td>50.481252</td>\n",
       "      <td>1</td>\n",
       "    </tr>\n",
       "    <tr>\n",
       "      <th>4</th>\n",
       "      <td>7/11/13</td>\n",
       "      <td>103.19</td>\n",
       "      <td>49.828613</td>\n",
       "      <td>-1</td>\n",
       "    </tr>\n",
       "  </tbody>\n",
       "</table>\n",
       "</div>"
      ],
      "text/plain": [
       "      date  oil_price        rsi  signal\n",
       "0  5/20/13     103.59  50.170575      -1\n",
       "1   6/3/13     102.14  50.241727      -1\n",
       "2  6/14/13     103.51  50.247340      -1\n",
       "3  6/27/13     105.21  50.481252       1\n",
       "4  7/11/13     103.19  49.828613      -1"
      ]
     },
     "execution_count": 105,
     "metadata": {},
     "output_type": "execute_result"
    }
   ],
   "source": [
    "oil_9.head()"
   ]
  },
  {
   "cell_type": "code",
   "execution_count": 106,
   "metadata": {},
   "outputs": [
    {
     "data": {
      "text/html": [
       "<div>\n",
       "<style scoped>\n",
       "    .dataframe tbody tr th:only-of-type {\n",
       "        vertical-align: middle;\n",
       "    }\n",
       "\n",
       "    .dataframe tbody tr th {\n",
       "        vertical-align: top;\n",
       "    }\n",
       "\n",
       "    .dataframe thead th {\n",
       "        text-align: right;\n",
       "    }\n",
       "</style>\n",
       "<table border=\"1\" class=\"dataframe\">\n",
       "  <thead>\n",
       "    <tr style=\"text-align: right;\">\n",
       "      <th></th>\n",
       "      <th>date</th>\n",
       "      <th>oil_price</th>\n",
       "      <th>rsi</th>\n",
       "      <th>signal</th>\n",
       "    </tr>\n",
       "  </thead>\n",
       "  <tbody>\n",
       "    <tr>\n",
       "      <th>0</th>\n",
       "      <td>5/28/13</td>\n",
       "      <td>102.14</td>\n",
       "      <td>50.170575</td>\n",
       "      <td>-1</td>\n",
       "    </tr>\n",
       "    <tr>\n",
       "      <th>1</th>\n",
       "      <td>6/17/13</td>\n",
       "      <td>103.11</td>\n",
       "      <td>50.260606</td>\n",
       "      <td>-1</td>\n",
       "    </tr>\n",
       "    <tr>\n",
       "      <th>2</th>\n",
       "      <td>7/8/13</td>\n",
       "      <td>103.96</td>\n",
       "      <td>50.769810</td>\n",
       "      <td>1</td>\n",
       "    </tr>\n",
       "    <tr>\n",
       "      <th>3</th>\n",
       "      <td>7/26/13</td>\n",
       "      <td>109.27</td>\n",
       "      <td>50.154574</td>\n",
       "      <td>-1</td>\n",
       "    </tr>\n",
       "    <tr>\n",
       "      <th>4</th>\n",
       "      <td>8/15/13</td>\n",
       "      <td>109.28</td>\n",
       "      <td>50.162852</td>\n",
       "      <td>-1</td>\n",
       "    </tr>\n",
       "  </tbody>\n",
       "</table>\n",
       "</div>"
      ],
      "text/plain": [
       "      date  oil_price        rsi  signal\n",
       "0  5/28/13     102.14  50.170575      -1\n",
       "1  6/17/13     103.11  50.260606      -1\n",
       "2   7/8/13     103.96  50.769810       1\n",
       "3  7/26/13     109.27  50.154574      -1\n",
       "4  8/15/13     109.28  50.162852      -1"
      ]
     },
     "execution_count": 106,
     "metadata": {},
     "output_type": "execute_result"
    }
   ],
   "source": [
    "oil_14.head()"
   ]
  },
  {
   "cell_type": "code",
   "execution_count": null,
   "metadata": {
    "collapsed": true
   },
   "outputs": [],
   "source": []
  }
 ],
 "metadata": {
  "kernelspec": {
   "display_name": "Python 3",
   "language": "python",
   "name": "python3"
  },
  "language_info": {
   "codemirror_mode": {
    "name": "ipython",
    "version": 3
   },
   "file_extension": ".py",
   "mimetype": "text/x-python",
   "name": "python",
   "nbconvert_exporter": "python",
   "pygments_lexer": "ipython3",
   "version": "3.6.3"
  }
 },
 "nbformat": 4,
 "nbformat_minor": 2
}
